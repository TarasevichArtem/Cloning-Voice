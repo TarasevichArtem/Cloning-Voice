{
 "cells": [
  {
   "cell_type": "code",
   "execution_count": 2,
   "metadata": {},
   "outputs": [],
   "source": [
    "import tkinter as tk\n",
    "import pandas as pd\n",
    "import pyaudio\n",
    "import wave\n",
    "import re"
   ]
  },
  {
   "cell_type": "code",
   "execution_count": 9,
   "metadata": {},
   "outputs": [],
   "source": [
    "CHUNK = 1024\n",
    "FORMAT = pyaudio.paInt16\n",
    "CHANNELS = 1\n",
    "RATE = 44100\n",
    "RECORD_SECONDS = 10\n",
    "START_STRING = 0"
   ]
  },
  {
   "cell_type": "code",
   "execution_count": 10,
   "metadata": {},
   "outputs": [],
   "source": [
    "flag = True\n",
    "number = 0"
   ]
  },
  {
   "cell_type": "code",
   "execution_count": 11,
   "metadata": {},
   "outputs": [],
   "source": [
    "def get_strings():\n",
    "    strings = None\n",
    "    with open('text.txt', 'r') as f:\n",
    "        strings = f.read()\n",
    "    strings = strings.split('. ')\n",
    "    strings = [re.sub('[^A-Za-z0-9, \\\".\\-\\']+', '', i) + '.' for i in strings]\n",
    "    df = pd.DataFrame(enumerate(strings), columns=['id', 'transcription'])\n",
    "    df['id'] += 1\n",
    "    return df"
   ]
  },
  {
   "cell_type": "code",
   "execution_count": null,
   "metadata": {},
   "outputs": [],
   "source": [
    "def record_click():\n",
    "    global flag, number\n",
    "    stream = p.open(format=FORMAT,\n",
    "                channels=CHANNELS,\n",
    "                rate=RATE,\n",
    "                input=True,\n",
    "                frames_per_buffer=CHUNK)\n",
    "    frames = []\n",
    "\n",
    "    while flag:\n",
    "        data = stream.read(CHUNK)\n",
    "        frames.append(data)\n",
    "        window.update()\n",
    "    flag = True\n",
    "    stream.close()\n",
    "    wf = wave.open(f'Records/wavs/{number + 1}.wav', 'wb')\n",
    "    wf.setnchannels(CHANNELS)\n",
    "    wf.setsampwidth(p.get_sample_size(FORMAT))\n",
    "    wf.setframerate(RATE)\n",
    "    wf.writeframes(b''.join(frames))\n",
    "    wf.close()\n",
    "    number += 1\n",
    "    text.delete('1.0', tk.END)\n",
    "    text.insert(tk.END, df['transcription'][number])"
   ]
  },
  {
   "cell_type": "code",
   "execution_count": null,
   "metadata": {},
   "outputs": [],
   "source": [
    "def rerecord_click():\n",
    "    global number\n",
    "    number -= 1\n",
    "    text.delete('1.0', tk.END)\n",
    "    text.insert(tk.END, df['transcription'][number])"
   ]
  },
  {
   "cell_type": "code",
   "execution_count": null,
   "metadata": {},
   "outputs": [],
   "source": [
    "def stop_click():\n",
    "    global flag\n",
    "    flag = False"
   ]
  },
  {
   "cell_type": "code",
   "execution_count": null,
   "metadata": {},
   "outputs": [],
   "source": [
    "p = pyaudio.PyAudio()"
   ]
  },
  {
   "cell_type": "code",
   "execution_count": 4,
   "metadata": {},
   "outputs": [],
   "source": [
    "df = get_strings()"
   ]
  },
  {
   "cell_type": "code",
   "execution_count": 8,
   "metadata": {},
   "outputs": [],
   "source": [
    "df.to_csv('Records/metadata.csv', index=False)"
   ]
  },
  {
   "cell_type": "code",
   "execution_count": null,
   "metadata": {
    "scrolled": false
   },
   "outputs": [],
   "source": [
    "window = tk.Tk()  \n",
    "window.title(\"Record\")\n",
    "window.geometry('1000x300')\n",
    "record = tk.Button(window, text='Start', command=record_click)\n",
    "record.grid(column=0, row=0)\n",
    "stop = tk.Button(window, text='Stop', command=stop_click)\n",
    "stop.grid(column=0, row=1)\n",
    "rerecord = tk.Button(window, text='Rerecord', command=rerecord_click)\n",
    "rerecord.grid(column=0, row=2)\n",
    "text = tk.Text(width=100, height=50)\n",
    "text.insert(tk.END, df['transcription'][number])\n",
    "text.grid(column=0, row=3)\n",
    "window.mainloop()"
   ]
  },
  {
   "cell_type": "code",
   "execution_count": null,
   "metadata": {},
   "outputs": [],
   "source": []
  }
 ],
 "metadata": {
  "kernelspec": {
   "display_name": "Python 3",
   "language": "python",
   "name": "python3"
  },
  "language_info": {
   "codemirror_mode": {
    "name": "ipython",
    "version": 3
   },
   "file_extension": ".py",
   "mimetype": "text/x-python",
   "name": "python",
   "nbconvert_exporter": "python",
   "pygments_lexer": "ipython3",
   "version": "3.7.4"
  }
 },
 "nbformat": 4,
 "nbformat_minor": 2
}
