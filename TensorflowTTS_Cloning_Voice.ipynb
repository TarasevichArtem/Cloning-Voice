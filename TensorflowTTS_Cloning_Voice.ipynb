{
  "nbformat": 4,
  "nbformat_minor": 0,
  "metadata": {
    "colab": {
      "name": "E2E-TensorflowTTS Demo TEMP",
      "provenance": [],
      "collapsed_sections": []
    },
    "kernelspec": {
      "display_name": "Python 3",
      "name": "python3"
    }
  },
  "cells": [
    {
      "cell_type": "code",
      "metadata": {
        "id": "-bXow5e8fRdx"
      },
      "source": [
        "import os\n",
        "!git clone https://github.com/TensorSpeech/TensorFlowTTS\n",
        "os.chdir(\"TensorFlowTTS\")\n",
        "\n",
        "#removes tensorflow-gpu and h5py strict versioning\n",
        "!gdown --id 1skxnvNJC6XootVRoQUhai7lL9Ym1ct1C -O setup.py\n",
        "\n",
        "!pip install  .\n",
        "os.chdir(\"..\")\n",
        "import sys\n",
        "sys.path.append(\"TensorFlowTTS/\")\n",
        "!pip install git+https://github.com/repodiac/german_transliterate.git#egg=german_transliterate\n",
        "!pip install huggingface_hub"
      ],
      "execution_count": null,
      "outputs": []
    },
    {
      "cell_type": "markdown",
      "metadata": {
        "id": "2ImxaImZh3de"
      },
      "source": [
        "MelGAN + STFT Loss"
      ]
    },
    {
      "cell_type": "code",
      "metadata": {
        "colab": {
          "base_uri": "https://localhost:8080/"
        },
        "id": "x6QsaE-uh6gf",
        "outputId": "1621abc4-b0dd-41de-f320-c4d6e22d7666"
      },
      "source": [
        "print(\"Downloading MelGAN-STFT model...\")\n",
        "!gdown --id {\"1WB5iQbk9qB-Y-wO8BU6S2TnRiu4VU5ys\"} -O melgan.stft-2M.h5\n",
        "!gdown --id {\"1OqdrcHJvtXwNasEZP7KXZwtGUDXMKNkg\"} -O melgan.stft_config.yml"
      ],
      "execution_count": null,
      "outputs": [
        {
          "output_type": "stream",
          "text": [
            "Downloading MelGAN-STFT model...\n",
            "Downloading...\n",
            "From: https://drive.google.com/uc?id=1WB5iQbk9qB-Y-wO8BU6S2TnRiu4VU5ys\n",
            "To: /content/melgan.stft-2M.h5\n",
            "17.1MB [00:00, 104MB/s] \n",
            "Downloading...\n",
            "From: https://drive.google.com/uc?id=1OqdrcHJvtXwNasEZP7KXZwtGUDXMKNkg\n",
            "To: /content/melgan.stft_config.yml\n",
            "100% 1.77k/1.77k [00:00<00:00, 1.43MB/s]\n"
          ],
          "name": "stdout"
        }
      ]
    },
    {
      "cell_type": "markdown",
      "metadata": {
        "id": "3D9cOkKni_Pu"
      },
      "source": [
        "## Load Model"
      ]
    },
    {
      "cell_type": "code",
      "metadata": {
        "id": "UKWOHNekjoX_"
      },
      "source": [
        "import tensorflow as tf\n",
        "\n",
        "import yaml\n",
        "import numpy as np\n",
        "import matplotlib.pyplot as plt\n",
        "\n",
        "import IPython.display as ipd\n",
        "\n",
        "import tensorflow_tts\n",
        "from tensorflow_tts.inference import TFAutoModel\n",
        "from tensorflow_tts.inference import AutoConfig\n",
        "from tensorflow_tts.inference import AutoProcessor"
      ],
      "execution_count": null,
      "outputs": []
    },
    {
      "cell_type": "code",
      "metadata": {
        "id": "XNL40EHGSJA7"
      },
      "source": [
        "!unzip Records.zip"
      ],
      "execution_count": null,
      "outputs": []
    },
    {
      "cell_type": "markdown",
      "metadata": {
        "id": "EYzz_JkjjbSb"
      },
      "source": [
        "### Tacotron 2"
      ]
    },
    {
      "cell_type": "code",
      "metadata": {
        "id": "8LUmgY69inlf"
      },
      "source": [
        "tacotron2 = TFAutoModel.from_pretrained(\"tensorspeech/tts-tacotron2-ljspeech-en\", name=\"tacotron2\")"
      ],
      "execution_count": null,
      "outputs": []
    },
    {
      "cell_type": "code",
      "metadata": {
        "id": "mPZk7Zc0Id5b"
      },
      "source": [
        "!tensorflow-tts-preprocess --rootdir /content/TensorFlowTTS/Records --outdir ./dump/ --config /content/TensorFlowTTS/preprocess/ljspeech_preprocess.yaml --dataset ljspeech"
      ],
      "execution_count": null,
      "outputs": []
    },
    {
      "cell_type": "code",
      "metadata": {
        "id": "Q_FgCsuFJZ9U",
        "colab": {
          "base_uri": "https://localhost:8080/"
        },
        "outputId": "b6fa8979-ae2f-4a74-d77b-7326d48e1b8d"
      },
      "source": [
        "!tensorflow-tts-normalize --rootdir /content/dump --outdir /content/dump --config /content/TensorFlowTTS/preprocess/ljspeech_preprocess.yaml --dataset ljspeech"
      ],
      "execution_count": null,
      "outputs": [
        {
          "output_type": "stream",
          "text": [
            "[nltk_data] Downloading package averaged_perceptron_tagger to\n",
            "[nltk_data]     /root/nltk_data...\n",
            "[nltk_data]   Package averaged_perceptron_tagger is already up-to-\n",
            "[nltk_data]       date!\n",
            "[nltk_data] Downloading package cmudict to /root/nltk_data...\n",
            "[nltk_data]   Package cmudict is already up-to-date!\n",
            "2021-08-23 13:23:00,172 (preprocess:531) INFO: Files to normalize: 3\n",
            "[Normalizing]: 100% 3/3 [00:00<00:00, 218.27it/s]\n"
          ],
          "name": "stdout"
        }
      ]
    },
    {
      "cell_type": "code",
      "metadata": {
        "id": "TdJ7K8KEG8Ik"
      },
      "source": [
        "!CUDA_VISIBLE_DEVICES=0 python /content/TensorFlowTTS/examples/tacotron2/train_tacotron2.py --train-dir /content/dump/train --dev-dir /content/dump/valid --outdir ./outputDir/ --config /content/TensorFlowTTS/examples/tacotron2/conf/tacotron2.v1.yaml --use-norm 1 --mixed_precision 0 --resume \"\""
      ],
      "execution_count": null,
      "outputs": []
    },
    {
      "cell_type": "code",
      "metadata": {
        "id": "ktHeraInlrsl"
      },
      "source": [
        "def do_synthesis(input_text, text2mel_model, vocoder_model, text2mel_name, vocoder_name):\n",
        "  input_ids = processor.text_to_sequence(input_text)\n",
        "\n",
        "  # text2mel part\n",
        "  if text2mel_name == \"TACOTRON\":\n",
        "    _, mel_outputs, stop_token_prediction, alignment_history = text2mel_model.inference(\n",
        "        tf.expand_dims(tf.convert_to_tensor(input_ids, dtype=tf.int32), 0),\n",
        "        tf.convert_to_tensor([len(input_ids)], tf.int32),\n",
        "        tf.convert_to_tensor([0], dtype=tf.int32)\n",
        "    )\n",
        "  else:\n",
        "    raise ValueError(\"Error Name\")\n",
        "\n",
        "  # vocoder part\n",
        "  if vocoder_name == \"MELGAN\" or vocoder_name == \"MELGAN-STFT\":\n",
        "    audio = vocoder_model(mel_outputs)[0, :, 0]\n",
        "  else:\n",
        "    raise ValueError(\"Error Name\")\n",
        "\n",
        "  if text2mel_name == \"TACOTRON\":\n",
        "    return mel_outputs.numpy(), alignment_history.numpy(), audio.numpy()\n",
        "  else:\n",
        "    raise ValueError(\"Error Name\")\n",
        "\n",
        "def visualize_attention(alignment_history):\n",
        "  import matplotlib.pyplot as plt\n",
        "\n",
        "  fig = plt.figure(figsize=(8, 6))\n",
        "  ax = fig.add_subplot(111)\n",
        "  ax.set_title(f'Alignment steps')\n",
        "  im = ax.imshow(\n",
        "      alignment_history,\n",
        "      aspect='auto',\n",
        "      origin='lower',\n",
        "      interpolation='none')\n",
        "  fig.colorbar(im, ax=ax)\n",
        "  xlabel = 'Decoder timestep'\n",
        "  plt.xlabel(xlabel)\n",
        "  plt.ylabel('Encoder timestep')\n",
        "  plt.tight_layout()\n",
        "  plt.show()\n",
        "  plt.close()\n",
        "\n",
        "def visualize_mel_spectrogram(mels):\n",
        "  mels = tf.reshape(mels, [-1, 80]).numpy()\n",
        "  fig = plt.figure(figsize=(10, 8))\n",
        "  ax1 = fig.add_subplot(311)\n",
        "  ax1.set_title(f'Predicted Mel-after-Spectrogram')\n",
        "  im = ax1.imshow(np.rot90(mels), aspect='auto', interpolation='none')\n",
        "  fig.colorbar(mappable=im, shrink=0.65, orientation='horizontal', ax=ax1)\n",
        "  plt.show()\n",
        "  plt.close()"
      ],
      "execution_count": null,
      "outputs": []
    },
    {
      "cell_type": "code",
      "metadata": {
        "id": "4uv_QngUmFbK"
      },
      "source": [
        "input_text = \"Bill got in the habit of asking himself “Is that thought true?” And if he wasn’t absolutely certain it was, he just let it go.\""
      ],
      "execution_count": null,
      "outputs": []
    },
    {
      "cell_type": "code",
      "metadata": {
        "id": "wiCe8nU3qJa6"
      },
      "source": [
        "# setup window for tacotron2 if you want to try\n",
        "tacotron2.setup_window(win_front=10, win_back=10)"
      ],
      "execution_count": null,
      "outputs": []
    },
    {
      "cell_type": "markdown",
      "metadata": {
        "id": "n2Mw68kuocN0"
      },
      "source": [
        "### Tacotron2 + MELGAN"
      ]
    },
    {
      "cell_type": "code",
      "metadata": {
        "id": "_ChvXMc8mF7K"
      },
      "source": [
        "mels, alignment_history, audios = do_synthesis(input_text, tacotron2, melgan, \"TACOTRON\", \"MELGAN\")\n",
        "visualize_attention(alignment_history[0])\n",
        "visualize_mel_spectrogram(mels[0])\n",
        "ipd.Audio(audios, rate=22050)"
      ],
      "execution_count": null,
      "outputs": []
    },
    {
      "cell_type": "code",
      "metadata": {
        "id": "FEVHO4hHyp92"
      },
      "source": [
        ""
      ],
      "execution_count": null,
      "outputs": []
    }
  ]
}